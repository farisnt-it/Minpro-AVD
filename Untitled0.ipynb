{
  "nbformat": 4,
  "nbformat_minor": 0,
  "metadata": {
    "colab": {
      "provenance": []
    },
    "kernelspec": {
      "name": "python3",
      "display_name": "Python 3"
    },
    "language_info": {
      "name": "python"
    }
  },
  "cells": [
    {
      "cell_type": "markdown",
      "source": [
        "# Analisis Tren Penjualan Produk Samsung Galaxy dari Tahun 2019 hingga 2024 dengan Fokus pada Produk yang Mendukung Teknologi 5G\n",
        "\n",
        "## Deskripsi\n",
        "Studi kasus ini bertujuan untuk menganalisis tren penjualan produk Samsung Galaxy dari tahun 2019 hingga 2024. Fokus utama adalah pada perbandingan penjualan produk yang mendukung teknologi 5G dengan yang tidak mendukung 5G. Analisis ini mencakup pengaruh kemampuan 5G terhadap jumlah unit yang terjual, pendapatan, dan pangsa pasar di berbagai wilayah geografis.\n",
        "\n",
        "---\n",
        "\n",
        "## Pertanyaan Penelitian\n",
        "1. Bagaimana perbandingan penjualan produk Samsung Galaxy yang mendukung 5G dengan yang tidak mendukung 5G dari tahun ke tahun?  \n",
        "2. Apakah ada peningkatan dalam pangsa pasar untuk produk Samsung Galaxy dengan kemampuan 5G?  \n",
        "3. Bagaimana kinerja penjualan produk di berbagai wilayah geografis, terutama di daerah dengan cakupan 5G tinggi?  \n",
        "\n",
        "---\n",
        "\n",
        "## Business Understanding\n",
        "### Business Objective\n",
        "Tujuan utama adalah memahami pengaruh teknologi 5G terhadap penjualan produk Samsung Galaxy dan bagaimana hal ini dapat mempengaruhi strategi pemasaran dan pengembangan produk di masa depan.\n",
        "\n",
        "---\n",
        "\n",
        "### Assess Situation\n",
        "Persaingan yang semakin ketat di pasar smartphone dan kebutuhan untuk memahami adopsi teknologi 5G mempengaruhi penjualan. Tren konsumen yang terus berkembang dan inovasi teknologi memerlukan pemahaman mendalam tentang preferensi pelanggan dan kinerja produk di berbagai wilayah.\n",
        "\n",
        "---\n",
        "\n",
        "## Data Mining Goals\n",
        "- Mengidentifikasi segmen produk dengan kinerja penjualan terbaik dan terburuk.  \n",
        "- Menganalisis tren penjualan produk 5G vs. non-5G.  \n",
        "- Menentukan wilayah geografis dengan performa penjualan terbaik untuk produk 5G.  \n",
        "\n",
        "---\n",
        "\n",
        "## Project Plan\n",
        "1. **Data Collection**  \n",
        "   Mengumpulkan dataset penjualan produk Samsung Galaxy dari tahun 2019 hingga 2024, termasuk informasi produk (5G/non-5G), unit terjual, pendapatan, dan wilayah geografis.  \n",
        "\n",
        "2. **Data Cleaning**  \n",
        "   Membersihkan data dari kesalahan (missing values, duplikat, outlier) dan memastikan konsistensi format data.  \n",
        "\n",
        "3. **Exploratory Data Analysis (EDA)**  \n",
        "   - Analisis distribusi penjualan per tahun dan wilayah.  \n",
        "   - Visualisasi tren penjualan produk 5G vs. non-5G.  \n",
        "   - Identifikasi korelasi antara adopsi 5G dan peningkatan pendapatan.  \n",
        "\n",
        "4. **Model Building**  \n",
        "   Membangun model prediktif (contoh: regresi, time series) untuk memproyeksikan penjualan produk 5G dan faktor dominan yang memengaruhinya.  \n",
        "\n",
        "5. **Evaluation and Validation**  \n",
        "   - Uji akurasi model menggunakan metrik seperti MAE, RMSE, atau R-squared.  \n",
        "   - Validasi hasil dengan data historis dan segmentasi pasar.  \n",
        "\n",
        "6. **Documentation**  \n",
        "   Menyusun laporan lengkap di Google Colaboratory dengan visualisasi data, interpretasi hasil, dan rekomendasi strategis.  \n",
        "\n",
        "---\n"
      ],
      "metadata": {
        "id": "67LsjTDselqk"
      }
    }
  ]
}